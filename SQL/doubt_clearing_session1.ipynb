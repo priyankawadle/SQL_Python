{
 "cells": [
  {
   "cell_type": "code",
   "execution_count": 3,
   "id": "c8e63930",
   "metadata": {},
   "outputs": [],
   "source": [
    "import sqlite3\n",
    "\n",
    "connection =sqlite3.connect(\"doubt_session.db\")\n"
   ]
  },
  {
   "cell_type": "code",
   "execution_count": 4,
   "id": "e088c829",
   "metadata": {},
   "outputs": [],
   "source": [
    "cursor = connection.cursor()"
   ]
  },
  {
   "cell_type": "code",
   "execution_count": 19,
   "id": "63a3310c",
   "metadata": {},
   "outputs": [
    {
     "ename": "OperationalError",
     "evalue": "table Users already exists",
     "output_type": "error",
     "traceback": [
      "\u001b[1;31m---------------------------------------------------------------------------\u001b[0m",
      "\u001b[1;31mOperationalError\u001b[0m                          Traceback (most recent call last)",
      "Cell \u001b[1;32mIn[19], line 11\u001b[0m\n\u001b[0;32m      1\u001b[0m \u001b[38;5;66;03m#Users\u001b[39;00m\n\u001b[0;32m      2\u001b[0m query \u001b[38;5;241m=\u001b[39m \u001b[38;5;124m\"\"\"\u001b[39m\n\u001b[0;32m      3\u001b[0m \u001b[38;5;124mCREATE TABLE Users(\u001b[39m\n\u001b[0;32m      4\u001b[0m \u001b[38;5;124m  UserID INTEGER PRIMARY KEY AUTOINCREMENT,\u001b[39m\n\u001b[1;32m   (...)\u001b[0m\n\u001b[0;32m      9\u001b[0m \u001b[38;5;124m)\u001b[39m\n\u001b[0;32m     10\u001b[0m \u001b[38;5;124m\"\"\"\u001b[39m\n\u001b[1;32m---> 11\u001b[0m \u001b[43mcursor\u001b[49m\u001b[38;5;241;43m.\u001b[39;49m\u001b[43mexecute\u001b[49m\u001b[43m(\u001b[49m\u001b[43mquery\u001b[49m\u001b[43m)\u001b[49m\n",
      "\u001b[1;31mOperationalError\u001b[0m: table Users already exists"
     ]
    }
   ],
   "source": [
    "#Users\n",
    "query = \"\"\"\n",
    "CREATE TABLE Users(\n",
    "  UserID INTEGER PRIMARY KEY AUTOINCREMENT,\n",
    "    UserName TEXT NOT NULL,\n",
    "    Email TEXT UNIQUE NOT NULL,\n",
    "    Password TEXT NOT NULL,\n",
    "    RegisteredAt TIMESTAMP DEFAULT CURRENT_TIMESTAMP\n",
    ")\n",
    "\"\"\"\n",
    "cursor.execute(query)"
   ]
  },
  {
   "cell_type": "code",
   "execution_count": null,
   "id": "b3a42beb",
   "metadata": {},
   "outputs": [
    {
     "data": {
      "text/plain": [
       "<sqlite3.Cursor at 0x1fe25e9f140>"
      ]
     },
     "execution_count": 9,
     "metadata": {},
     "output_type": "execute_result"
    }
   ],
   "source": [
    "query = \"\"\" \n",
    "INSERT INTO Users(UserName,Email,Password) values(\"Priyanka\",\"priyanka@gmail.com\",\"priyanka@123\")\n",
    "\"\"\"\n",
    "cursor.execute(query)"
   ]
  },
  {
   "cell_type": "code",
   "execution_count": null,
   "id": "817201ad",
   "metadata": {},
   "outputs": [
    {
     "data": {
      "text/plain": [
       "<sqlite3.Cursor at 0x1fe25e9f140>"
      ]
     },
     "execution_count": 10,
     "metadata": {},
     "output_type": "execute_result"
    }
   ],
   "source": [
    "query = \"\"\" \n",
    "INSERT INTO Users(UserName,Email,Password) values(\"sonu\",\"sonu@gmail.com\",\"sonu@123\")\n",
    "\"\"\"\n",
    "cursor.execute(query)"
   ]
  },
  {
   "cell_type": "code",
   "execution_count": null,
   "id": "03da68c3",
   "metadata": {},
   "outputs": [
    {
     "data": {
      "text/html": [
       "<div>\n",
       "<style scoped>\n",
       "    .dataframe tbody tr th:only-of-type {\n",
       "        vertical-align: middle;\n",
       "    }\n",
       "\n",
       "    .dataframe tbody tr th {\n",
       "        vertical-align: top;\n",
       "    }\n",
       "\n",
       "    .dataframe thead th {\n",
       "        text-align: right;\n",
       "    }\n",
       "</style>\n",
       "<table border=\"1\" class=\"dataframe\">\n",
       "  <thead>\n",
       "    <tr style=\"text-align: right;\">\n",
       "      <th></th>\n",
       "      <th>UserID</th>\n",
       "      <th>UserName</th>\n",
       "      <th>Email</th>\n",
       "      <th>Password</th>\n",
       "      <th>RegisteredAt</th>\n",
       "    </tr>\n",
       "  </thead>\n",
       "  <tbody>\n",
       "    <tr>\n",
       "      <th>0</th>\n",
       "      <td>1</td>\n",
       "      <td>Priyanka</td>\n",
       "      <td>priyanka@gmail.com</td>\n",
       "      <td>priyanka@123</td>\n",
       "      <td>2025-06-25 14:28:55</td>\n",
       "    </tr>\n",
       "    <tr>\n",
       "      <th>1</th>\n",
       "      <td>2</td>\n",
       "      <td>sonu</td>\n",
       "      <td>sonu@gmail.com</td>\n",
       "      <td>sonu@123</td>\n",
       "      <td>2025-06-25 14:29:20</td>\n",
       "    </tr>\n",
       "  </tbody>\n",
       "</table>\n",
       "</div>"
      ],
      "text/plain": [
       "   UserID  UserName               Email      Password         RegisteredAt\n",
       "0       1  Priyanka  priyanka@gmail.com  priyanka@123  2025-06-25 14:28:55\n",
       "1       2      sonu      sonu@gmail.com      sonu@123  2025-06-25 14:29:20"
      ]
     },
     "execution_count": 16,
     "metadata": {},
     "output_type": "execute_result"
    }
   ],
   "source": [
    "import pandas as pd\n",
    "users_data = pd.read_sql_query(\"select * from Users\",connection)\n",
    "users_data"
   ]
  },
  {
   "cell_type": "code",
   "execution_count": null,
   "id": "552d29d2",
   "metadata": {},
   "outputs": [
    {
     "data": {
      "text/plain": [
       "<sqlite3.Cursor at 0x1fe25e9f140>"
      ]
     },
     "execution_count": 4,
     "metadata": {},
     "output_type": "execute_result"
    }
   ],
   "source": [
    "#Drivers \n",
    "query = \"\"\"\n",
    "CREATE TABLE Drivers(\n",
    "  DriverID INTEGER PRIMARY KEY AUTOINCREMENT,\n",
    "    DriverName TEXT NOT NULL,\n",
    "    Phone TEXT UNIQUE NOT NULL,\n",
    "    Status TEXT DEFAULT 'Available',\n",
    "    RegisteredAt TIMESTAMP DEFAULT CURRENT_TIMESTAMP\n",
    ")\n",
    "\"\"\"\n",
    "cursor.execute(query)"
   ]
  },
  {
   "cell_type": "code",
   "execution_count": null,
   "id": "9260597c",
   "metadata": {},
   "outputs": [
    {
     "data": {
      "text/plain": [
       "<sqlite3.Cursor at 0x1fe25e9f140>"
      ]
     },
     "execution_count": 11,
     "metadata": {},
     "output_type": "execute_result"
    }
   ],
   "source": [
    "query = \"\"\" \n",
    "INSERT INTO Drivers(DriverName,Phone,Status) values(\"Rajesh\",\"8908908766\",\"available\"),(\"Mahesj\",\"6786786547\",\"Ride Booked\")\n",
    "\"\"\"\n",
    "cursor.execute(query)"
   ]
  },
  {
   "cell_type": "code",
   "execution_count": null,
   "id": "598e37a8",
   "metadata": {},
   "outputs": [
    {
     "data": {
      "text/html": [
       "<div>\n",
       "<style scoped>\n",
       "    .dataframe tbody tr th:only-of-type {\n",
       "        vertical-align: middle;\n",
       "    }\n",
       "\n",
       "    .dataframe tbody tr th {\n",
       "        vertical-align: top;\n",
       "    }\n",
       "\n",
       "    .dataframe thead th {\n",
       "        text-align: right;\n",
       "    }\n",
       "</style>\n",
       "<table border=\"1\" class=\"dataframe\">\n",
       "  <thead>\n",
       "    <tr style=\"text-align: right;\">\n",
       "      <th></th>\n",
       "      <th>DriverID</th>\n",
       "      <th>DriverName</th>\n",
       "      <th>Phone</th>\n",
       "      <th>Status</th>\n",
       "      <th>RegisteredAt</th>\n",
       "    </tr>\n",
       "  </thead>\n",
       "  <tbody>\n",
       "    <tr>\n",
       "      <th>0</th>\n",
       "      <td>1</td>\n",
       "      <td>Rajesh</td>\n",
       "      <td>8908908766</td>\n",
       "      <td>available</td>\n",
       "      <td>2025-06-25 14:31:15</td>\n",
       "    </tr>\n",
       "    <tr>\n",
       "      <th>1</th>\n",
       "      <td>2</td>\n",
       "      <td>Mahesj</td>\n",
       "      <td>6786786547</td>\n",
       "      <td>Ride Booked</td>\n",
       "      <td>2025-06-25 14:31:15</td>\n",
       "    </tr>\n",
       "  </tbody>\n",
       "</table>\n",
       "</div>"
      ],
      "text/plain": [
       "   DriverID DriverName       Phone       Status         RegisteredAt\n",
       "0         1     Rajesh  8908908766    available  2025-06-25 14:31:15\n",
       "1         2     Mahesj  6786786547  Ride Booked  2025-06-25 14:31:15"
      ]
     },
     "execution_count": 15,
     "metadata": {},
     "output_type": "execute_result"
    }
   ],
   "source": [
    "\n",
    "drivers_data_data = pd.read_sql_query(\"select * from Drivers\",connection)\n",
    "drivers_data_data"
   ]
  },
  {
   "cell_type": "code",
   "execution_count": null,
   "id": "5c6105bc",
   "metadata": {},
   "outputs": [
    {
     "data": {
      "text/plain": [
       "<sqlite3.Cursor at 0x1fe25e9f140>"
      ]
     },
     "execution_count": 5,
     "metadata": {},
     "output_type": "execute_result"
    }
   ],
   "source": [
    "#Vehicles\n",
    "query = \"\"\"\n",
    "CREATE TABLE IF NOT EXISTS Vehicles (\n",
    "    VehicleID INTEGER PRIMARY KEY AUTOINCREMENT,\n",
    "    DriverID INTEGER NOT NULL,\n",
    "    VehicleNumber TEXT UNIQUE NOT NULL,\n",
    "    VehicleType TEXT NOT NULL,\n",
    "    LicensePlate TEXT NOT NULL,\n",
    "    FOREIGN KEY (DriverID) REFERENCES Drivers(DriverID)\n",
    ");\n",
    "\"\"\"\n",
    "cursor.execute(query)"
   ]
  },
  {
   "cell_type": "code",
   "execution_count": null,
   "id": "e63ee18b",
   "metadata": {},
   "outputs": [
    {
     "data": {
      "text/plain": [
       "<sqlite3.Cursor at 0x1718ebdbbc0>"
      ]
     },
     "execution_count": 3,
     "metadata": {},
     "output_type": "execute_result"
    }
   ],
   "source": [
    "query = \"\"\" \n",
    "INSERT INTO Vehicles(DriverId,VehicleNumber,VehicleType,LicensePlate) \n",
    "values(1,\"1234\",\"suv\",\"dsnmfsd\"),(2,\"4567\",\"suv\",\"werrt\")\n",
    "\"\"\"\n",
    "cursor.execute(query)"
   ]
  },
  {
   "cell_type": "code",
   "execution_count": null,
   "id": "596b3a3d",
   "metadata": {},
   "outputs": [
    {
     "data": {
      "text/html": [
       "<div>\n",
       "<style scoped>\n",
       "    .dataframe tbody tr th:only-of-type {\n",
       "        vertical-align: middle;\n",
       "    }\n",
       "\n",
       "    .dataframe tbody tr th {\n",
       "        vertical-align: top;\n",
       "    }\n",
       "\n",
       "    .dataframe thead th {\n",
       "        text-align: right;\n",
       "    }\n",
       "</style>\n",
       "<table border=\"1\" class=\"dataframe\">\n",
       "  <thead>\n",
       "    <tr style=\"text-align: right;\">\n",
       "      <th></th>\n",
       "      <th>VehicleID</th>\n",
       "      <th>DriverID</th>\n",
       "      <th>VehicleNumber</th>\n",
       "      <th>VehicleType</th>\n",
       "      <th>LicensePlate</th>\n",
       "    </tr>\n",
       "  </thead>\n",
       "  <tbody>\n",
       "    <tr>\n",
       "      <th>0</th>\n",
       "      <td>1</td>\n",
       "      <td>1</td>\n",
       "      <td>1234</td>\n",
       "      <td>suv</td>\n",
       "      <td>dsnmfsd</td>\n",
       "    </tr>\n",
       "    <tr>\n",
       "      <th>1</th>\n",
       "      <td>2</td>\n",
       "      <td>2</td>\n",
       "      <td>4567</td>\n",
       "      <td>suv</td>\n",
       "      <td>werrt</td>\n",
       "    </tr>\n",
       "  </tbody>\n",
       "</table>\n",
       "</div>"
      ],
      "text/plain": [
       "   VehicleID  DriverID VehicleNumber VehicleType LicensePlate\n",
       "0          1         1          1234         suv      dsnmfsd\n",
       "1          2         2          4567         suv        werrt"
      ]
     },
     "execution_count": 6,
     "metadata": {},
     "output_type": "execute_result"
    }
   ],
   "source": [
    "import pandas as pd\n",
    "vehicle_data = pd.read_sql_query(\"select * from Vehicles\",connection)\n",
    "vehicle_data"
   ]
  },
  {
   "cell_type": "code",
   "execution_count": null,
   "id": "c193f1c9",
   "metadata": {},
   "outputs": [
    {
     "data": {
      "text/plain": [
       "<sqlite3.Cursor at 0x1fe25e9f140>"
      ]
     },
     "execution_count": 6,
     "metadata": {},
     "output_type": "execute_result"
    }
   ],
   "source": [
    "#Rides\n",
    "query = \"\"\"\n",
    "CREATE TABLE IF NOT EXISTS Rides (\n",
    "    RideID INTEGER PRIMARY KEY AUTOINCREMENT,\n",
    "    UserID INTEGER NOT NULL,\n",
    "    DriverID INTEGER,\n",
    "    PickupLocation TEXT NOT NULL,\n",
    "    DropLocation TEXT NOT NULL,\n",
    "    DistanceKM REAL,\n",
    "    FareAmount REAL,\n",
    "    Status TEXT DEFAULT 'Requested',\n",
    "    RequestTime TIMESTAMP DEFAULT CURRENT_TIMESTAMP,\n",
    "    StartTime TIMESTAMP,\n",
    "    EndTime TIMESTAMP,\n",
    "    FOREIGN KEY (UserID) REFERENCES Users(UserID),\n",
    "    FOREIGN KEY (DriverID) REFERENCES Drivers(DriverID)\n",
    ");\n",
    "\"\"\"\n",
    "\n",
    "cursor.execute(query)"
   ]
  },
  {
   "cell_type": "code",
   "execution_count": null,
   "id": "d436474f",
   "metadata": {},
   "outputs": [
    {
     "data": {
      "text/plain": [
       "<sqlite3.Cursor at 0x1718ebdbbc0>"
      ]
     },
     "execution_count": 7,
     "metadata": {},
     "output_type": "execute_result"
    }
   ],
   "source": [
    "query = \"\"\" \n",
    "INSERT INTO Rides(UserId, DriverId,PickupLocation,DropLocation,DistanceKM,FareAmount,Status,RequestTime,StartTime,EndTime) \n",
    "values(1,2,\"powai\",\"candivali\",12,230,\"Rie started\",6,2,2.10),(2,1,\"andheri\",\"dadar\",25,500,\"Ride booked\",10,4,6)\n",
    "\"\"\"\n",
    "cursor.execute(query)"
   ]
  },
  {
   "cell_type": "code",
   "execution_count": null,
   "id": "b0331af0",
   "metadata": {},
   "outputs": [
    {
     "data": {
      "text/html": [
       "<div>\n",
       "<style scoped>\n",
       "    .dataframe tbody tr th:only-of-type {\n",
       "        vertical-align: middle;\n",
       "    }\n",
       "\n",
       "    .dataframe tbody tr th {\n",
       "        vertical-align: top;\n",
       "    }\n",
       "\n",
       "    .dataframe thead th {\n",
       "        text-align: right;\n",
       "    }\n",
       "</style>\n",
       "<table border=\"1\" class=\"dataframe\">\n",
       "  <thead>\n",
       "    <tr style=\"text-align: right;\">\n",
       "      <th></th>\n",
       "      <th>RideID</th>\n",
       "      <th>UserID</th>\n",
       "      <th>DriverID</th>\n",
       "      <th>PickupLocation</th>\n",
       "      <th>DropLocation</th>\n",
       "      <th>DistanceKM</th>\n",
       "      <th>FareAmount</th>\n",
       "      <th>Status</th>\n",
       "      <th>RequestTime</th>\n",
       "      <th>StartTime</th>\n",
       "      <th>EndTime</th>\n",
       "    </tr>\n",
       "  </thead>\n",
       "  <tbody>\n",
       "    <tr>\n",
       "      <th>0</th>\n",
       "      <td>1</td>\n",
       "      <td>1</td>\n",
       "      <td>2</td>\n",
       "      <td>powai</td>\n",
       "      <td>candivali</td>\n",
       "      <td>12.0</td>\n",
       "      <td>230.0</td>\n",
       "      <td>Rie started</td>\n",
       "      <td>6</td>\n",
       "      <td>2</td>\n",
       "      <td>2.1</td>\n",
       "    </tr>\n",
       "    <tr>\n",
       "      <th>1</th>\n",
       "      <td>2</td>\n",
       "      <td>2</td>\n",
       "      <td>1</td>\n",
       "      <td>andheri</td>\n",
       "      <td>dadar</td>\n",
       "      <td>25.0</td>\n",
       "      <td>500.0</td>\n",
       "      <td>Ride booked</td>\n",
       "      <td>10</td>\n",
       "      <td>4</td>\n",
       "      <td>6.0</td>\n",
       "    </tr>\n",
       "  </tbody>\n",
       "</table>\n",
       "</div>"
      ],
      "text/plain": [
       "   RideID  UserID  DriverID PickupLocation DropLocation  DistanceKM  \\\n",
       "0       1       1         2          powai    candivali        12.0   \n",
       "1       2       2         1        andheri        dadar        25.0   \n",
       "\n",
       "   FareAmount       Status  RequestTime  StartTime  EndTime  \n",
       "0       230.0  Rie started            6          2      2.1  \n",
       "1       500.0  Ride booked           10          4      6.0  "
      ]
     },
     "execution_count": 8,
     "metadata": {},
     "output_type": "execute_result"
    }
   ],
   "source": [
    "import pandas as pd\n",
    "ride_data = pd.read_sql_query(\"select * from Rides\",connection)\n",
    "ride_data"
   ]
  },
  {
   "cell_type": "code",
   "execution_count": null,
   "id": "aafe3f65",
   "metadata": {},
   "outputs": [
    {
     "data": {
      "text/plain": [
       "<sqlite3.Cursor at 0x1fe25e9f140>"
      ]
     },
     "execution_count": 7,
     "metadata": {},
     "output_type": "execute_result"
    }
   ],
   "source": [
    "#Payment\n",
    "query = \"\"\"\n",
    "CREATE TABLE IF NOT EXISTS Payments (\n",
    "    PaymentID INTEGER PRIMARY KEY AUTOINCREMENT,\n",
    "    RideID INTEGER NOT NULL,\n",
    "    UserID INTEGER NOT NULL,\n",
    "    Amount REAL NOT NULL,\n",
    "    PaymentMethod TEXT NOT NULL,\n",
    "    PaymentTime TIMESTAMP DEFAULT CURRENT_TIMESTAMP,\n",
    "    FOREIGN KEY (RideID) REFERENCES Rides(RideID),\n",
    "    FOREIGN KEY (UserID) REFERENCES Users(UserID)\n",
    ");\n",
    "\"\"\"\n",
    "\n",
    "cursor.execute(query)"
   ]
  },
  {
   "cell_type": "code",
   "execution_count": 5,
   "id": "fa2d2560",
   "metadata": {},
   "outputs": [
    {
     "data": {
      "text/plain": [
       "<sqlite3.Cursor at 0x20c55e8f5c0>"
      ]
     },
     "execution_count": 5,
     "metadata": {},
     "output_type": "execute_result"
    }
   ],
   "source": [
    "query = \"\"\" \n",
    "INSERT INTO Payments(RideId,UserId, Amount, PaymentMethod, PaymentTime) \n",
    "values(1,1,230,\"UPI\",12),(2,2,500,\"Cash\",7)\n",
    "\"\"\"\n",
    "cursor.execute(query)"
   ]
  },
  {
   "cell_type": "code",
   "execution_count": 6,
   "id": "978e7b24",
   "metadata": {},
   "outputs": [
    {
     "data": {
      "text/html": [
       "<div>\n",
       "<style scoped>\n",
       "    .dataframe tbody tr th:only-of-type {\n",
       "        vertical-align: middle;\n",
       "    }\n",
       "\n",
       "    .dataframe tbody tr th {\n",
       "        vertical-align: top;\n",
       "    }\n",
       "\n",
       "    .dataframe thead th {\n",
       "        text-align: right;\n",
       "    }\n",
       "</style>\n",
       "<table border=\"1\" class=\"dataframe\">\n",
       "  <thead>\n",
       "    <tr style=\"text-align: right;\">\n",
       "      <th></th>\n",
       "      <th>PaymentID</th>\n",
       "      <th>RideID</th>\n",
       "      <th>UserID</th>\n",
       "      <th>Amount</th>\n",
       "      <th>PaymentMethod</th>\n",
       "      <th>PaymentTime</th>\n",
       "    </tr>\n",
       "  </thead>\n",
       "  <tbody>\n",
       "    <tr>\n",
       "      <th>0</th>\n",
       "      <td>1</td>\n",
       "      <td>1</td>\n",
       "      <td>1</td>\n",
       "      <td>230.0</td>\n",
       "      <td>UPI</td>\n",
       "      <td>12</td>\n",
       "    </tr>\n",
       "    <tr>\n",
       "      <th>1</th>\n",
       "      <td>2</td>\n",
       "      <td>2</td>\n",
       "      <td>2</td>\n",
       "      <td>500.0</td>\n",
       "      <td>Cash</td>\n",
       "      <td>7</td>\n",
       "    </tr>\n",
       "  </tbody>\n",
       "</table>\n",
       "</div>"
      ],
      "text/plain": [
       "   PaymentID  RideID  UserID  Amount PaymentMethod  PaymentTime\n",
       "0          1       1       1   230.0           UPI           12\n",
       "1          2       2       2   500.0          Cash            7"
      ]
     },
     "execution_count": 6,
     "metadata": {},
     "output_type": "execute_result"
    }
   ],
   "source": [
    "import pandas as pd\n",
    "payment_data = pd.read_sql_query(\"select * from Payments\",connection)\n",
    "payment_data"
   ]
  },
  {
   "cell_type": "code",
   "execution_count": null,
   "id": "5c7c7508",
   "metadata": {},
   "outputs": [
    {
     "data": {
      "text/plain": [
       "<sqlite3.Cursor at 0x1fe25e9f140>"
      ]
     },
     "execution_count": 8,
     "metadata": {},
     "output_type": "execute_result"
    }
   ],
   "source": [
    "#Ratings\n",
    "query = \"\"\"\n",
    "CREATE TABLE IF NOT EXISTS Ratings (\n",
    "    RatingID INTEGER PRIMARY KEY AUTOINCREMENT,\n",
    "    RideID INTEGER NOT NULL,\n",
    "    RaterType TEXT CHECK(RaterType IN ('User', 'Driver')) NOT NULL,\n",
    "    RaterID INTEGER NOT NULL,\n",
    "    RateeID INTEGER NOT NULL,\n",
    "    Stars INTEGER CHECK(Stars BETWEEN 1 AND 5),\n",
    "    Review TEXT,\n",
    "    RatedAt TIMESTAMP DEFAULT CURRENT_TIMESTAMP,\n",
    "    FOREIGN KEY (RideID) REFERENCES Rides(RideID)\n",
    ");\n",
    "\"\"\"\n",
    "\n",
    "cursor.execute(query)"
   ]
  },
  {
   "cell_type": "code",
   "execution_count": 8,
   "id": "84ac4ac4",
   "metadata": {},
   "outputs": [
    {
     "data": {
      "text/plain": [
       "<sqlite3.Cursor at 0x20c55e8f5c0>"
      ]
     },
     "execution_count": 8,
     "metadata": {},
     "output_type": "execute_result"
    }
   ],
   "source": [
    "query = \"\"\" \n",
    "INSERT INTO Ratings(RideId,RaterType,RaterID,RateeID,Stars,Review) \n",
    "values(1,\"User\",1,1,3,4),(2,\"Driver\",2,2,4,3)\n",
    "\"\"\"\n",
    "cursor.execute(query)"
   ]
  },
  {
   "cell_type": "code",
   "execution_count": 9,
   "id": "3389427b",
   "metadata": {},
   "outputs": [
    {
     "data": {
      "text/html": [
       "<div>\n",
       "<style scoped>\n",
       "    .dataframe tbody tr th:only-of-type {\n",
       "        vertical-align: middle;\n",
       "    }\n",
       "\n",
       "    .dataframe tbody tr th {\n",
       "        vertical-align: top;\n",
       "    }\n",
       "\n",
       "    .dataframe thead th {\n",
       "        text-align: right;\n",
       "    }\n",
       "</style>\n",
       "<table border=\"1\" class=\"dataframe\">\n",
       "  <thead>\n",
       "    <tr style=\"text-align: right;\">\n",
       "      <th></th>\n",
       "      <th>RatingID</th>\n",
       "      <th>RideID</th>\n",
       "      <th>RaterType</th>\n",
       "      <th>RaterID</th>\n",
       "      <th>RateeID</th>\n",
       "      <th>Stars</th>\n",
       "      <th>Review</th>\n",
       "      <th>RatedAt</th>\n",
       "    </tr>\n",
       "  </thead>\n",
       "  <tbody>\n",
       "    <tr>\n",
       "      <th>0</th>\n",
       "      <td>1</td>\n",
       "      <td>1</td>\n",
       "      <td>User</td>\n",
       "      <td>1</td>\n",
       "      <td>1</td>\n",
       "      <td>3</td>\n",
       "      <td>4</td>\n",
       "      <td>2025-06-25 15:01:17</td>\n",
       "    </tr>\n",
       "    <tr>\n",
       "      <th>1</th>\n",
       "      <td>2</td>\n",
       "      <td>2</td>\n",
       "      <td>Driver</td>\n",
       "      <td>2</td>\n",
       "      <td>2</td>\n",
       "      <td>4</td>\n",
       "      <td>3</td>\n",
       "      <td>2025-06-25 15:01:17</td>\n",
       "    </tr>\n",
       "  </tbody>\n",
       "</table>\n",
       "</div>"
      ],
      "text/plain": [
       "   RatingID  RideID RaterType  RaterID  RateeID  Stars Review  \\\n",
       "0         1       1      User        1        1      3      4   \n",
       "1         2       2    Driver        2        2      4      3   \n",
       "\n",
       "               RatedAt  \n",
       "0  2025-06-25 15:01:17  \n",
       "1  2025-06-25 15:01:17  "
      ]
     },
     "execution_count": 9,
     "metadata": {},
     "output_type": "execute_result"
    }
   ],
   "source": [
    "import pandas as pd\n",
    "rating_data = pd.read_sql_query(\"select * from Ratings\",connection)\n",
    "rating_data"
   ]
  },
  {
   "cell_type": "code",
   "execution_count": null,
   "id": "fdbb5cd7",
   "metadata": {},
   "outputs": [],
   "source": [
    "select * from Rides where FareAmount>300\n",
    "\n",
    "\n",
    "select count(*)  from Rides where FareAmount>300\n",
    "\n",
    "select * from Rides orderBy FareAmount DSEC limit 3\n",
    "\n",
    "select * from Rides where status != \"Completed\"\n",
    "\n",
    "select round(FareAmount/ DistanceKM) as fareperkm from Rides\n",
    "\n",
    "select RideID, FareaAmount,CASE \n",
    "WHEN FareAmount >300 then \"Expnesive\"\n",
    "ELSE \"Chip\"\n",
    "END AS Fareytpe\n",
    "from Rides\n",
    "\n",
    "\n",
    "select Status, count(*) from Rides groupBy status\n",
    "\n",
    "\n",
    "select Status, sum(*) from Rides groupBy status\n",
    "\n",
    "select Status, average(*) from Rides groupBy status"
   ]
  }
 ],
 "metadata": {
  "kernelspec": {
   "display_name": "Python 3",
   "language": "python",
   "name": "python3"
  },
  "language_info": {
   "codemirror_mode": {
    "name": "ipython",
    "version": 3
   },
   "file_extension": ".py",
   "mimetype": "text/x-python",
   "name": "python",
   "nbconvert_exporter": "python",
   "pygments_lexer": "ipython3",
   "version": "3.10.11"
  }
 },
 "nbformat": 4,
 "nbformat_minor": 5
}
